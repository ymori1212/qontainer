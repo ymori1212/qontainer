{
 "cells": [
  {
   "cell_type": "markdown",
   "metadata": {},
   "source": [
    "## 1. 環境設定とライブラリのインポート\n",
    "\n",
    "まず、必要なライブラリをインポートし、Qiskitのバージョンを確認します。"
   ]
  },
  {
   "cell_type": "code",
   "execution_count": null,
   "metadata": {},
   "outputs": [],
   "source": [
    "# 必要なライブラリのインポート\n",
    "import matplotlib.pyplot as plt\n",
    "import japanize_matplotlib\n",
    "%matplotlib inline\n",
    "\n",
    "# Qiskitの主要コンポーネントのインポート\n",
    "from qiskit import QuantumCircuit, transpile\n",
    "from qiskit.visualization import plot_histogram, plot_bloch_multivector\n",
    "from qiskit.quantum_info import Statevector\n",
    "from qiskit_aer import Aer\n",
    "\n",
    "# Qiskitのバージョン確認\n",
    "import qiskit\n",
    "print(f\"Qiskit version: {qiskit.__version__}\")"
   ]
  },
  {
   "cell_type": "markdown",
   "metadata": {},
   "source": [
    "## 2. 単一量子ビット回路の作成\n",
    "\n",
    "まずは、1つの量子ビットにHadamardゲートを適用し、重ね合わせ状態を作るシンプルな回路を作成します。"
   ]
  },
  {
   "cell_type": "code",
   "execution_count": null,
   "metadata": {},
   "outputs": [],
   "source": [
    "# 1量子ビット・1古典ビットの回路を作成\n",
    "single_qubit_circuit = QuantumCircuit(1, 1)\n",
    "\n",
    "# Hadamardゲートで重ね合わせ状態を作成\n",
    "single_qubit_circuit.h(0)\n",
    "\n",
    "# 測定\n",
    "single_qubit_circuit.measure(0, 0)\n",
    "\n",
    "# 回路の描画\n",
    "circuit_fig = single_qubit_circuit.draw(output='mpl', style='iqp')\n",
    "plt.show()"
   ]
  },
  {
   "cell_type": "code",
   "execution_count": null,
   "metadata": {},
   "outputs": [],
   "source": [
    "# Bloch球で Hゲート適用後の状態を可視化（測定前までの回路を使用）\n",
    "bloch_circuit = QuantumCircuit(1)\n",
    "bloch_circuit.h(0)\n",
    "state = Statevector.from_instruction(bloch_circuit)\n",
    "plot_bloch_multivector(state, title=\"Hゲート後のBloch球表示\")\n",
    "plt.show()"
   ]
  },
  {
   "cell_type": "code",
   "execution_count": null,
   "metadata": {},
   "outputs": [],
   "source": [
    "# QASMシミュレータで回路を実行\n",
    "simulator = Aer.get_backend('qasm_simulator')\n",
    "# 回路を変換（ハードウェア向けに最適化）\n",
    "compiled_circuit = transpile(single_qubit_circuit, simulator)\n",
    "\n",
    "# 実行\n",
    "job = simulator.run(compiled_circuit, shots=1024)\n",
    "result = job.result()\n",
    "counts = result.get_counts()\n",
    "\n",
    "# 測定結果のヒストグラム表示\n",
    "print(counts)\n",
    "plot_histogram(counts, title='単一量子ビットの測定結果')\n",
    "plt.show() "
   ]
  },
  {
   "cell_type": "code",
   "execution_count": null,
   "metadata": {},
   "outputs": [],
   "source": []
  }
 ],
 "metadata": {
  "kernelspec": {
   "display_name": "Python 3 (ipykernel)",
   "language": "python",
   "name": "python3"
  },
  "language_info": {
   "codemirror_mode": {
    "name": "ipython",
    "version": 3
   },
   "file_extension": ".py",
   "mimetype": "text/x-python",
   "name": "python",
   "nbconvert_exporter": "python",
   "pygments_lexer": "ipython3",
   "version": "3.12.9"
  }
 },
 "nbformat": 4,
 "nbformat_minor": 4
}
